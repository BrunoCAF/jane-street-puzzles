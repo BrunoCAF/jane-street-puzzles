{
 "cells": [
  {
   "cell_type": "code",
   "execution_count": 1,
   "id": "4b2c90b0",
   "metadata": {},
   "outputs": [],
   "source": [
    "import numpy as np"
   ]
  },
  {
   "cell_type": "code",
   "execution_count": 2,
   "id": "8b1bc1a4",
   "metadata": {},
   "outputs": [],
   "source": [
    "board = np.array([\n",
    "    [ 57,  33, 132, 268, 492, 732], \n",
    "    [ 81, 123, 240, 443, 353, 508], \n",
    "    [186,  42, 195, 704, 452, 228], \n",
    "    [ -7,   2, 357, 452, 317, 395], \n",
    "    [  5,  23,  -4, 592, 445, 620], \n",
    "    [  0,  77,  32, 403, 337, 452]\n",
    "])[::-1, :]"
   ]
  },
  {
   "cell_type": "code",
   "execution_count": 3,
   "id": "b72be557",
   "metadata": {},
   "outputs": [
    {
     "data": {
      "text/plain": [
       "array([[ 57,  33, 132, 268, 492, 732],\n",
       "       [ 81, 123, 240, 443, 353, 508],\n",
       "       [186,  42, 195, 704, 452, 228],\n",
       "       [ -7,   2, 357, 452, 317, 395],\n",
       "       [  5,  23,  -4, 592, 445, 620],\n",
       "       [  0,  77,  32, 403, 337, 452]])"
      ]
     },
     "execution_count": 3,
     "metadata": {},
     "output_type": "execute_result"
    }
   ],
   "source": [
    "board[::-1, :]"
   ]
  },
  {
   "cell_type": "code",
   "execution_count": 4,
   "id": "a32fa28a",
   "metadata": {},
   "outputs": [],
   "source": [
    "arr = np.arange(6)\n",
    "initial_die = {\"num\": np.zeros(6), \"set\": np.zeros(6, dtype=bool)}\n",
    "set_die = lambda die, label, value: {\"num\": die[\"num\"] * (arr != label-1) + value * (arr == label-1), \n",
    "                                     \"set\": die[\"set\"] | (arr == label-1)}"
   ]
  },
  {
   "cell_type": "code",
   "execution_count": 5,
   "id": "d3fd1640",
   "metadata": {},
   "outputs": [],
   "source": [
    "# label_topology\n",
    "antipode = {1: 6, 2: 4, 3: 5, 4: 2, 5: 3, 6: 1}\n",
    "# configuration = (front, up, right)\n",
    "initial_cfg = (2,1,3)\n",
    "# tipping transformations\n",
    "tip_front = lambda cfg: (cfg[1], antipode[cfg[0]], cfg[2])\n",
    "tip_right = lambda cfg: (cfg[0], antipode[cfg[2]], cfg[1])\n",
    "tip_back = lambda cfg: (antipode[cfg[1]], cfg[0], cfg[2])\n",
    "tip_left = lambda cfg: (cfg[0], cfg[2], antipode[cfg[1]])\n",
    "\n",
    "# moves on the board\n",
    "initial_pos = np.array([0, 0])\n",
    "final_pos = np.array([5, 5])\n",
    "move_front = lambda pos: pos+np.array([1, 0])\n",
    "move_right = lambda pos: pos+np.array([0, 1])\n",
    "move_back = lambda pos: pos+np.array([-1, 0])\n",
    "move_left = lambda pos: pos+np.array([0, -1])\n",
    "\n",
    "def directions(pos):\n",
    "    funcs = []\n",
    "    if pos[0] > 0:\n",
    "        funcs.append((move_back, tip_back))\n",
    "    if pos[1] > 0:\n",
    "        funcs.append((move_left, tip_left))\n",
    "    if pos[0] < board.shape[0] - 1:\n",
    "        funcs.append((move_front, tip_front))\n",
    "    if pos[1] < board.shape[1] - 1:\n",
    "        funcs.append((move_right, tip_right))\n",
    "        \n",
    "    return funcs"
   ]
  },
  {
   "cell_type": "code",
   "execution_count": 6,
   "id": "ba416e43",
   "metadata": {},
   "outputs": [],
   "source": [
    "history = []\n",
    "def backtrack(pos, cfg, die, N, history):\n",
    "    if (pos == final_pos).all():\n",
    "        history.append((pos, cfg, die))\n",
    "        return True\n",
    "    \n",
    "    for move, tip in directions(pos):\n",
    "        delta_score = board[tuple(move(pos))] - board[tuple(pos)]\n",
    "        face_up_value = delta_score/(N+1)\n",
    "        face_up_label = tip(cfg)[1]\n",
    "        \n",
    "        if die[\"set\"][face_up_label - 1] and die[\"num\"][face_up_label - 1] != face_up_value:\n",
    "            continue\n",
    "        \n",
    "        if backtrack(move(pos), tip(cfg), set_die(die, face_up_label, face_up_value), N+1, history):\n",
    "            history.append((pos, cfg, die))\n",
    "            return True\n",
    "    "
   ]
  },
  {
   "cell_type": "code",
   "execution_count": 7,
   "id": "18e3c6ed",
   "metadata": {
    "scrolled": true
   },
   "outputs": [
    {
     "data": {
      "text/plain": [
       "True"
      ]
     },
     "execution_count": 7,
     "metadata": {},
     "output_type": "execute_result"
    }
   ],
   "source": [
    "backtrack(initial_pos, initial_cfg, initial_die, 0, history)"
   ]
  },
  {
   "cell_type": "code",
   "execution_count": 9,
   "id": "0f536ac1",
   "metadata": {
    "scrolled": false
   },
   "outputs": [
    {
     "name": "stdout",
     "output_type": "stream",
     "text": [
      "Pos (i, j) = (0, 0) ->   0 | Cfg (f,u,r) = (2, 1, 3) | DS: ['??', '??', '??', '??', '??', '??']\n",
      "Pos (i, j) = (1, 0) ->   5 | Cfg (f,u,r) = (1, 4, 3) | DS: ['??', '??', '??', ' 5', '??', '??']\n",
      "Pos (i, j) = (1, 1) ->  23 | Cfg (f,u,r) = (1, 5, 4) | DS: ['??', '??', '??', ' 5', ' 9', '??']\n",
      "Pos (i, j) = (1, 2) ->  -4 | Cfg (f,u,r) = (1, 2, 5) | DS: ['??', '-9', '??', ' 5', ' 9', '??']\n",
      "Pos (i, j) = (0, 2) ->  32 | Cfg (f,u,r) = (4, 1, 5) | DS: [' 9', '-9', '??', ' 5', ' 9', '??']\n",
      "Pos (i, j) = (0, 1) ->  77 | Cfg (f,u,r) = (4, 5, 6) | DS: [' 9', '-9', '??', ' 5', ' 9', '??']\n",
      "Pos (i, j) = (1, 1) ->  23 | Cfg (f,u,r) = (5, 2, 6) | DS: [' 9', '-9', '??', ' 5', ' 9', '??']\n",
      "Pos (i, j) = (2, 1) ->   2 | Cfg (f,u,r) = (2, 3, 6) | DS: [' 9', '-9', '-3', ' 5', ' 9', '??']\n",
      "Pos (i, j) = (3, 1) ->  42 | Cfg (f,u,r) = (3, 4, 6) | DS: [' 9', '-9', '-3', ' 5', ' 9', '??']\n",
      "Pos (i, j) = (4, 1) -> 123 | Cfg (f,u,r) = (4, 5, 6) | DS: [' 9', '-9', '-3', ' 5', ' 9', '??']\n",
      "Pos (i, j) = (5, 1) ->  33 | Cfg (f,u,r) = (5, 2, 6) | DS: [' 9', '-9', '-3', ' 5', ' 9', '??']\n",
      "Pos (i, j) = (5, 2) -> 132 | Cfg (f,u,r) = (5, 1, 2) | DS: [' 9', '-9', '-3', ' 5', ' 9', '??']\n",
      "Pos (i, j) = (4, 2) -> 240 | Cfg (f,u,r) = (6, 5, 2) | DS: [' 9', '-9', '-3', ' 5', ' 9', '??']\n",
      "Pos (i, j) = (4, 1) -> 123 | Cfg (f,u,r) = (6, 2, 3) | DS: [' 9', '-9', '-3', ' 5', ' 9', '??']\n",
      "Pos (i, j) = (4, 0) ->  81 | Cfg (f,u,r) = (6, 3, 4) | DS: [' 9', '-9', '-3', ' 5', ' 9', '??']\n",
      "Pos (i, j) = (3, 0) -> 186 | Cfg (f,u,r) = (5, 6, 4) | DS: [' 9', '-9', '-3', ' 5', ' 9', ' 7']\n",
      "Pos (i, j) = (3, 1) ->  42 | Cfg (f,u,r) = (5, 2, 6) | DS: [' 9', '-9', '-3', ' 5', ' 9', ' 7']\n",
      "Pos (i, j) = (3, 2) -> 195 | Cfg (f,u,r) = (5, 1, 2) | DS: [' 9', '-9', '-3', ' 5', ' 9', ' 7']\n",
      "Pos (i, j) = (2, 2) -> 357 | Cfg (f,u,r) = (6, 5, 2) | DS: [' 9', '-9', '-3', ' 5', ' 9', ' 7']\n",
      "Pos (i, j) = (2, 3) -> 452 | Cfg (f,u,r) = (6, 4, 5) | DS: [' 9', '-9', '-3', ' 5', ' 9', ' 7']\n",
      "Pos (i, j) = (1, 3) -> 592 | Cfg (f,u,r) = (2, 6, 5) | DS: [' 9', '-9', '-3', ' 5', ' 9', ' 7']\n",
      "Pos (i, j) = (0, 3) -> 403 | Cfg (f,u,r) = (1, 2, 5) | DS: [' 9', '-9', '-3', ' 5', ' 9', ' 7']\n",
      "Pos (i, j) = (0, 4) -> 337 | Cfg (f,u,r) = (1, 3, 2) | DS: [' 9', '-9', '-3', ' 5', ' 9', ' 7']\n",
      "Pos (i, j) = (0, 5) -> 452 | Cfg (f,u,r) = (1, 4, 3) | DS: [' 9', '-9', '-3', ' 5', ' 9', ' 7']\n",
      "Pos (i, j) = (1, 5) -> 620 | Cfg (f,u,r) = (4, 6, 3) | DS: [' 9', '-9', '-3', ' 5', ' 9', ' 7']\n",
      "Pos (i, j) = (2, 5) -> 395 | Cfg (f,u,r) = (6, 2, 3) | DS: [' 9', '-9', '-3', ' 5', ' 9', ' 7']\n",
      "Pos (i, j) = (2, 4) -> 317 | Cfg (f,u,r) = (6, 3, 4) | DS: [' 9', '-9', '-3', ' 5', ' 9', ' 7']\n",
      "Pos (i, j) = (2, 3) -> 452 | Cfg (f,u,r) = (6, 4, 5) | DS: [' 9', '-9', '-3', ' 5', ' 9', ' 7']\n",
      "Pos (i, j) = (3, 3) -> 704 | Cfg (f,u,r) = (4, 1, 5) | DS: [' 9', '-9', '-3', ' 5', ' 9', ' 7']\n",
      "Pos (i, j) = (4, 3) -> 443 | Cfg (f,u,r) = (1, 2, 5) | DS: [' 9', '-9', '-3', ' 5', ' 9', ' 7']\n",
      "Pos (i, j) = (4, 4) -> 353 | Cfg (f,u,r) = (1, 3, 2) | DS: [' 9', '-9', '-3', ' 5', ' 9', ' 7']\n",
      "Pos (i, j) = (4, 5) -> 508 | Cfg (f,u,r) = (1, 4, 3) | DS: [' 9', '-9', '-3', ' 5', ' 9', ' 7']\n",
      "Pos (i, j) = (5, 5) -> 732 | Cfg (f,u,r) = (4, 6, 3) | DS: [' 9', '-9', '-3', ' 5', ' 9', ' 7']\n"
     ]
    }
   ],
   "source": [
    "for pos, cfg, die in history[::-1]:\n",
    "    print(f\"\"\"Pos (i, j) = {tuple(pos)} -> {board[tuple(pos)]:3.0f} | Cfg (f,u,r) = {cfg} | DS: {\n",
    "            [f\"{val:2.0f}\" if s else \"??\" for val, s in zip(die[\"num\"], die[\"set\"])]\n",
    "            }\"\"\")"
   ]
  },
  {
   "cell_type": "code",
   "execution_count": 10,
   "id": "ac152b11",
   "metadata": {},
   "outputs": [],
   "source": [
    "eval_board = board.copy()\n",
    "for pos, cfg, die in history:\n",
    "    eval_board[tuple(pos)] = 0"
   ]
  },
  {
   "cell_type": "code",
   "execution_count": 13,
   "id": "d164ea99",
   "metadata": {
    "scrolled": false
   },
   "outputs": [
    {
     "data": {
      "text/plain": [
       "array([[ 57,   0,   0, 268, 492,   0],\n",
       "       [  0,   0,   0,   0,   0,   0],\n",
       "       [  0,   0,   0,   0, 452, 228],\n",
       "       [ -7,   0,   0,   0,   0,   0],\n",
       "       [  0,   0,   0,   0, 445,   0],\n",
       "       [  0,   0,   0,   0,   0,   0]])"
      ]
     },
     "execution_count": 13,
     "metadata": {},
     "output_type": "execute_result"
    }
   ],
   "source": [
    "eval_board[::-1, :]"
   ]
  },
  {
   "cell_type": "code",
   "execution_count": 12,
   "id": "e19acdcb",
   "metadata": {},
   "outputs": [
    {
     "data": {
      "text/plain": [
       "1935"
      ]
     },
     "execution_count": 12,
     "metadata": {},
     "output_type": "execute_result"
    }
   ],
   "source": [
    "answer = eval_board.sum()\n",
    "answer"
   ]
  }
 ],
 "metadata": {
  "kernelspec": {
   "display_name": "Python 3 (ipykernel)",
   "language": "python",
   "name": "python3"
  },
  "language_info": {
   "codemirror_mode": {
    "name": "ipython",
    "version": 3
   },
   "file_extension": ".py",
   "mimetype": "text/x-python",
   "name": "python",
   "nbconvert_exporter": "python",
   "pygments_lexer": "ipython3",
   "version": "3.8.13"
  },
  "latex_envs": {
   "LaTeX_envs_menu_present": true,
   "autoclose": false,
   "autocomplete": false,
   "bibliofile": "biblio.bib",
   "cite_by": "apalike",
   "current_citInitial": 1,
   "eqLabelWithNumbers": true,
   "eqNumInitial": 1,
   "hotkeys": {
    "equation": "Ctrl-E",
    "itemize": "Ctrl-I"
   },
   "labels_anchors": false,
   "latex_user_defs": false,
   "report_style_numbering": false,
   "user_envs_cfg": false
  }
 },
 "nbformat": 4,
 "nbformat_minor": 5
}
