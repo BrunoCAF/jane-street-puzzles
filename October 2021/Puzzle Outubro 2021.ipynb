{
 "cells": [
  {
   "cell_type": "code",
   "execution_count": 36,
   "metadata": {},
   "outputs": [],
   "source": [
    "from math import comb\n",
    "import matplotlib.pyplot as plt\n",
    "\n",
    "q = lambda N: sum(comb(N, j)*(1 - j/N)**(3*N-1)*(-1)**j for j in range(N))\n",
    "\n",
    "a = lambda N: sum(comb(N, j)*(N - j)**(3*N-1)*(-1)**j for j in range(N))\n",
    "C = lambda N: (2.0/3)*(N)**(3*N-1)\n",
    "\n",
    "p = lambda N: 1 - q(N)"
   ]
  },
  {
   "cell_type": "code",
   "execution_count": 137,
   "metadata": {},
   "outputs": [
    {
     "data": {
      "text/plain": [
       "(8, 0.334578325799579)"
      ]
     },
     "execution_count": 137,
     "metadata": {},
     "output_type": "execute_result"
    }
   ],
   "source": [
    "N = min([n for n in range(3,50) if p(n) >= 1.0/3])\n",
    "N, p(N)"
   ]
  }
 ],
 "metadata": {
  "kernelspec": {
   "display_name": "Python 3",
   "language": "python",
   "name": "python3"
  },
  "language_info": {
   "codemirror_mode": {
    "name": "ipython",
    "version": 3
   },
   "file_extension": ".py",
   "mimetype": "text/x-python",
   "name": "python",
   "nbconvert_exporter": "python",
   "pygments_lexer": "ipython3",
   "version": "3.8.5"
  },
  "latex_envs": {
   "LaTeX_envs_menu_present": true,
   "autoclose": false,
   "autocomplete": false,
   "bibliofile": "biblio.bib",
   "cite_by": "apalike",
   "current_citInitial": 1,
   "eqLabelWithNumbers": true,
   "eqNumInitial": 1,
   "hotkeys": {
    "equation": "Ctrl-E",
    "itemize": "Ctrl-I"
   },
   "labels_anchors": false,
   "latex_user_defs": false,
   "report_style_numbering": false,
   "user_envs_cfg": false
  }
 },
 "nbformat": 4,
 "nbformat_minor": 4
}
