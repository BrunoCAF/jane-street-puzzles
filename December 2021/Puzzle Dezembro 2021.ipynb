{
 "cells": [
  {
   "cell_type": "markdown",
   "metadata": {},
   "source": [
    "# Simulating the Game"
   ]
  },
  {
   "cell_type": "code",
   "execution_count": 2,
   "metadata": {},
   "outputs": [],
   "source": [
    "import numpy as np\n",
    "import numpy.random as npr\n",
    "from math import inf\n",
    "\n",
    "def simulate_game(n):\n",
    "    players = {i: (i+1)%n for i in range(n)}\n",
    "    \n",
    "    limit = inf\n",
    "    \n",
    "    p = 0\n",
    "    \n",
    "    while len(players) > 1:\n",
    "        \n",
    "        M = npr.uniform()\n",
    "        \n",
    "        if M < limit:\n",
    "            p = players[p]\n",
    "        else:\n",
    "            for k, v in players.items():\n",
    "                if v == p:\n",
    "                    players[k] = players[p]\n",
    "            \n",
    "            p = players.pop(p)\n",
    "            \n",
    "        limit = min(M, limit)\n",
    "    \n",
    "    return p\n",
    "\n",
    "\n",
    "def monte_carlo(N, winner, size):\n",
    "    p = 0\n",
    "    for _ in range(N):\n",
    "        p += 1 if simulate_game(size) == winner else 0\n",
    "        \n",
    "    return p/N\n"
   ]
  },
  {
   "cell_type": "code",
   "execution_count": 3,
   "metadata": {},
   "outputs": [
    {
     "name": "stdout",
     "output_type": "stream",
     "text": [
      "p = 0.183407\n"
     ]
    }
   ],
   "source": [
    "N = int(1e7)\n",
    "size, winner = 4, 3\n",
    "print(f\"p = {monte_carlo(N, winner, size)}\")\n",
    "#%timeit simulate_game()"
   ]
  },
  {
   "cell_type": "markdown",
   "metadata": {},
   "source": [
    "# Estimating the Probability\n",
    "\n",
    "We can show that the probability of $D$ winning the game will be given by:\n",
    "\n",
    "\n",
    "$\\begin{eqnarray} p_{D:ABCD} &=& \\sum\\limits_{a \\ge 0} \\sum\\limits_{b \\ge 0}\\sum\\limits_{c \\ge 0} \\dfrac{a(a+b+1)(a+b+c+2)}{(a+b+c+3)!} \\cdot f(a,b,c) \\\\ &=& \\sum\\limits_{S \\ge 0}\\dfrac{S+2}{(S+3)!} \\sum\\limits_{k = 0}^{S} (k+1) \\sum\\limits_{a = 0}^{k} a \\cdot f(a,k-a,S-k) \\end{eqnarray}$\n",
    "\n",
    "where $f(a,b,c)$ is a suitable mask that encodes $D$ as the winner. "
   ]
  },
  {
   "cell_type": "code",
   "execution_count": 47,
   "metadata": {},
   "outputs": [],
   "source": [
    "def f(a, b, c):\n",
    "    a %= 4; b %= 3; c %= 2;\n",
    "    return 1 if (a,b,c) in [(0,0,0), (0,1,1), (1,2,0), (1,0,1), (2,1,0), (2,2,1)] else 0\n",
    "\n",
    "\n",
    "def calcula_soma(N):\n",
    "\n",
    "    fat = 1.0/3 # (0+2)/(0+3)!\n",
    "\n",
    "    soma = 0\n",
    "\n",
    "    for S in range(N):\n",
    "        soma += fat*sum((k+1)*sum(a*f(a,k-a,S-k) for a in range(k+1)) for k in range(S+1))\n",
    "        fat *= (S+3.0)/((S+3)**2 - 1)\n",
    "\n",
    "    print(soma)\n"
   ]
  },
  {
   "cell_type": "code",
   "execution_count": 49,
   "metadata": {},
   "outputs": [
    {
     "name": "stdout",
     "output_type": "stream",
     "text": [
      "0.18343765086176353\n"
     ]
    }
   ],
   "source": [
    "calcula_soma(5000)\n",
    "# 0.18343765086176353"
   ]
  },
  {
   "cell_type": "code",
   "execution_count": 16,
   "metadata": {},
   "outputs": [],
   "source": [
    "from math import cos, sin, exp, sqrt\n",
    "\n",
    "hat = lambda i_c, i_s, w_c, w_s, e, c: (i_c*cos(1) + i_s*sin(1) + exp(-0.5)*(w_c*cos(sqrt(3)/2) + w_s*sqrt(3)*sin(sqrt(3)/2)) + e*exp(-1) + c)/24.0\n"
   ]
  },
  {
   "cell_type": "code",
   "execution_count": 56,
   "metadata": {},
   "outputs": [],
   "source": [
    "args = ()\n",
    "val = 2\n",
    "dist = 1\n",
    "\n",
    "for i_c in range(-20,21):\n",
    "    if hat(i_c, -20, -20, -20, -50, 0) > soma + dist: \n",
    "        break\n",
    "    for i_s in range(-20,21):\n",
    "        if hat(i_c, i_s, -20, -20, -50, 0) > soma + dist: \n",
    "            break\n",
    "        for w_c in range(-20,21):\n",
    "            if hat(i_c, i_s, w_c, -20, -50, 0) > soma + dist: \n",
    "                break\n",
    "            for w_s in range(-20,21):\n",
    "                if hat(i_c, i_s, w_c, w_s, -50, 0) > soma + dist: \n",
    "                    break\n",
    "                for e in range(-50,51):\n",
    "                    curr = (i_c, i_s, w_c, w_s, e, 0)\n",
    "                    if abs(hat(i_c, i_s, w_c, w_s, e, c) - soma) < abs(val - soma):\n",
    "                        val = hat(i_c, i_s, w_c, w_s, e, c)\n",
    "                        args = (i_c, i_s, w_c, w_s, e, c)\n",
    "                        dist = abs(val - soma)\n",
    "                    if hat(i_c, i_s, w_c, w_s, e, 0) > soma + dist: \n",
    "                        break\n"
   ]
  },
  {
   "cell_type": "code",
   "execution_count": 55,
   "metadata": {},
   "outputs": [
    {
     "data": {
      "text/plain": [
       "(-20, -8, -5, 17, 28, 0)"
      ]
     },
     "execution_count": 55,
     "metadata": {},
     "output_type": "execute_result"
    }
   ],
   "source": [
    "args"
   ]
  }
 ],
 "metadata": {
  "kernelspec": {
   "display_name": "Python 3",
   "language": "python",
   "name": "python3"
  },
  "language_info": {
   "codemirror_mode": {
    "name": "ipython",
    "version": 3
   },
   "file_extension": ".py",
   "mimetype": "text/x-python",
   "name": "python",
   "nbconvert_exporter": "python",
   "pygments_lexer": "ipython3",
   "version": "3.8.5"
  },
  "latex_envs": {
   "LaTeX_envs_menu_present": true,
   "autoclose": false,
   "autocomplete": false,
   "bibliofile": "biblio.bib",
   "cite_by": "apalike",
   "current_citInitial": 1,
   "eqLabelWithNumbers": true,
   "eqNumInitial": 1,
   "hotkeys": {
    "equation": "Ctrl-E",
    "itemize": "Ctrl-I"
   },
   "labels_anchors": false,
   "latex_user_defs": false,
   "report_style_numbering": false,
   "user_envs_cfg": false
  }
 },
 "nbformat": 4,
 "nbformat_minor": 4
}
