{
 "cells": [
  {
   "cell_type": "code",
   "execution_count": 9,
   "id": "e2cee47b",
   "metadata": {},
   "outputs": [],
   "source": [
    "import numpy as np\n",
    "from numpy.lib import recfunctions as rfn\n",
    "import matplotlib.pyplot as plt"
   ]
  },
  {
   "cell_type": "code",
   "execution_count": 10,
   "id": "637b2987",
   "metadata": {},
   "outputs": [],
   "source": [
    "@np.vectorize\n",
    "def A1(D, t):\n",
    "    pi = np.pi\n",
    "    c = np.cos(t)\n",
    "    s = np.sin(t)\n",
    "    return s*(D*c/2)\n",
    "\n",
    "@np.vectorize\n",
    "def B1(D, t):\n",
    "    pi = np.pi\n",
    "    c = np.cos(t)\n",
    "    s = np.sin(t)\n",
    "    return s*(1 - D*c/2)\n",
    "\n",
    "@np.vectorize\n",
    "def A2(D, t):\n",
    "    pi = np.pi\n",
    "    c = np.cos(t)\n",
    "    s = np.sin(t)\n",
    "    return (pi/2 - 2*D*s + D*D*s*s/2)\n",
    "\n",
    "@np.vectorize\n",
    "def B2(D, t):\n",
    "    pi = np.pi\n",
    "    c = np.cos(t)\n",
    "    s = np.sin(t)\n",
    "    return (np.arcsin(1./(D*s)) - np.arccos(1./(D*s))) - 2*(1 - np.sqrt(D*D*s*s - 1)) + (1 - D*D*s*s/2)"
   ]
  },
  {
   "cell_type": "code",
   "execution_count": 42,
   "id": "a368eb93",
   "metadata": {},
   "outputs": [],
   "source": [
    "# @np.vectorize\n",
    "def p(D, N=1000):\n",
    "    if 0 <= D <= 1:\n",
    "        return 3*D/2 - 4*D*D/np.pi + 3*D*D*D/(4*np.pi)\n",
    "    elif 1 <= D <= np.sqrt(2):\n",
    "        x = np.linspace(0, np.pi/2, N)\n",
    "        def f(X):\n",
    "            Y = []\n",
    "            for x in X:\n",
    "                if 0 <= x <= np.arccos(1/D):\n",
    "                    y = B1(D, x)*A2(D, x)\n",
    "                elif np.arccos(1/D) <= x <= np.arcsin(1./D):\n",
    "                    y = A1(D, x)*A2(D, x)\n",
    "                elif np.arcsin(1./D) <= x <= np.pi/2:\n",
    "                    y = A1(D, x)*B2(D, x)\n",
    "                else:\n",
    "                    y = 0\n",
    "                Y.append(y)\n",
    "            return Y\n",
    "        \n",
    "        return (12./np.pi)*np.trapz(y=f(x), x=x)\n",
    "    elif np.sqrt(2) <= D <= np.sqrt(3):\n",
    "        x = np.linspace(0, np.pi/2, N)\n",
    "        def f(X):\n",
    "            Y = []\n",
    "            for x in X:\n",
    "                if 0 <= x <= np.arcsin(1./D):\n",
    "                    y = B1(D, x)*A2(D, x)\n",
    "                elif np.arcsin(1/D) <= x <= np.arccos(1./D):\n",
    "                    y = B1(D, x)*B2(D, x)\n",
    "                elif np.arccos(1./D) <= x <= np.arcsin(np.sqrt(2)/D):\n",
    "                    y = A1(D, x)*B2(D, x)\n",
    "                else:\n",
    "                    y = 0\n",
    "                Y.append(y)\n",
    "            return Y\n",
    "        \n",
    "        return (12./np.pi)*np.trapz(y=f(x), x=x)\n",
    "    elif np.sqrt(3) <= D <= 2:\n",
    "        x = np.linspace(0, np.pi/2, N)\n",
    "        def f(X):\n",
    "            Y = []\n",
    "            for x in X:\n",
    "                if 0 <= x <= np.arcsin(1./D):\n",
    "                    y = B1(D, x)*A2(D, x)\n",
    "                elif np.arcsin(1/D) <= x <= np.arcsin(np.sqrt(2)/D):\n",
    "                    y = B1(D, x)*B2(D, x)\n",
    "                else:\n",
    "                    y = 0\n",
    "                Y.append(y)\n",
    "            return Y\n",
    "        \n",
    "        return (12./np.pi)*np.trapz(y=f(x), x=x)\n",
    "    elif 2 <= D <= np.sqrt(5):\n",
    "        x = np.linspace(0, np.pi/2, N)\n",
    "        def f(X):\n",
    "            Y = []\n",
    "            for x in X:\n",
    "                if np.arccos(2/D) <= x <= np.arcsin(1./D):\n",
    "                    y = B1(D, x)*A2(D, x)\n",
    "                elif np.arcsin(1/D) <= x <= np.arcsin(np.sqrt(2)/D):\n",
    "                    y = B1(D, x)*B2(D, x)\n",
    "                else:\n",
    "                    y = 0\n",
    "                Y.append(y)\n",
    "            return Y\n",
    "        \n",
    "        return (12./np.pi)*np.trapz(y=f(x), x=x)\n",
    "    elif np.sqrt(5) <= D <= np.sqrt(6):\n",
    "        x = np.linspace(0, np.pi/2, N)\n",
    "        def f(X):\n",
    "            Y = []\n",
    "            for x in X:\n",
    "                if np.arccos(2/D) <= x <= np.arcsin(np.sqrt(2)/D):\n",
    "                    y = B1(D, x)*B2(D, x)\n",
    "                else:\n",
    "                    y = 0\n",
    "                Y.append(y)\n",
    "            return Y\n",
    "        \n",
    "        return (12./np.pi)*np.trapz(y=f(x), x=x)\n",
    "    else:\n",
    "        return 0"
   ]
  },
  {
   "cell_type": "code",
   "execution_count": 45,
   "id": "ab22d61a",
   "metadata": {},
   "outputs": [
    {
     "data": {
      "text/plain": [
       "[<matplotlib.lines.Line2D at 0x7fccb2a99780>]"
      ]
     },
     "execution_count": 45,
     "metadata": {},
     "output_type": "execute_result"
    },
    {
     "data": {
      "image/png": "[encoded data removed]",
      "text/plain": [
       "<Figure size 640x480 with 1 Axes>"
      ]
     },
     "metadata": {},
     "output_type": "display_data"
    }
   ],
   "source": [
    "x = np.linspace(0, np.sqrt(6), int(np.sqrt(6)*1000))\n",
    "y = []\n",
    "for _x in x:\n",
    "    y.append(p(_x))\n",
    "\n",
    "plt.plot(x, y)"
   ]
  },
  {
   "cell_type": "code",
   "execution_count": 53,
   "id": "63c3c3d5",
   "metadata": {},
   "outputs": [
    {
     "name": "stdout",
     "output_type": "stream",
     "text": [
      "(0.7452572091, 0.5095346021)\n"
     ]
    }
   ],
   "source": [
    "f = lambda D: 3*D/2 - 4*D*D/np.pi + 3*D*D*D/(4*np.pi)\n",
    "\n",
    "a = 9/(4*np.pi)\n",
    "b = -8/np.pi\n",
    "c = 3/2\n",
    "\n",
    "D = (-b - np.sqrt(b*b - 4*a*c))/(2*a)\n",
    "p = f(D)\n",
    "print(f\"({D:.10f}, {p:.10f})\")"
   ]
  }
 ],
 "metadata": {
  "kernelspec": {
   "display_name": "Python 3 (ipykernel)",
   "language": "python",
   "name": "python3"
  },
  "language_info": {
   "codemirror_mode": {
    "name": "ipython",
    "version": 3
   },
   "file_extension": ".py",
   "mimetype": "text/x-python",
   "name": "python",
   "nbconvert_exporter": "python",
   "pygments_lexer": "ipython3",
   "version": "3.10.9"
  }
 },
 "nbformat": 4,
 "nbformat_minor": 5
}
